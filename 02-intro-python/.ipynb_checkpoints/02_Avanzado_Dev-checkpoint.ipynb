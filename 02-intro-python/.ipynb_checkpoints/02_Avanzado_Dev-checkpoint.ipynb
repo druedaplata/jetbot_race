{
 "cells": [
  {
   "cell_type": "markdown",
   "metadata": {},
   "source": [
    "# Introducción (muy básica) a Programación Orientada a Objetos\n",
    "\n",
    "<img src=\"images/python.png\">\n",
    "\n",
    "La programación orientada a objetos es un estilo de programación que permite a los desarrolladores ordenar el código de forma que refleje el comportamiento que se observa en la realidad.\n",
    "\n",
    "\n",
    "* Facilita el mantenimiento y desarrollo en grandes proyectos de software.\n",
    "\n",
    "\n",
    "* *Proporciona una forma de estructurar los programas de forma que las propiedades y comportamientos están agrupados en objetos individuales.*\n",
    "\n",
    "\n",
    "* Todas las estructuras primitivas en Python (int, float, strings, list) son objetos y están diseñadas para representar cosas simples.\n",
    "\n",
    "\n",
    "* Si queremos representar casos mas complejos podemos usar las clases para crear estructuras de datos complejas.\n"
   ]
  },
  {
   "cell_type": "markdown",
   "metadata": {},
   "source": [
    "<br>\n",
    "<br>\n",
    "\n",
    "## Clases\n",
    "\n",
    "<img src=\"images/class_blueprint.png\">\n",
    "\n",
    "* Pueden entenderse como los **planos** para crear objetos.\n",
    "\n",
    "\n",
    "* Podemos crear múltiples objetos **únicos** de una sola clase.\n",
    "\n",
    "\n",
    "* Una clase define las características **(atributos)** y las acciones **(métodos)** que los objetos pueden tener.\n",
    "\n",
    "\n",
    "## Objetos\n",
    "\n",
    "* Un objeto se crea a partir de una clase, y se asignan valores reales a los atributos definidos en esta.\n",
    "\n",
    "---\n",
    "\n",
    "\n",
    "<br>\n",
    "<br>\n",
    "\n",
    "## Ejemplo\n",
    "\n",
    "\n",
    "<table>\n",
    "    <tr>\n",
    "        <td></td>\n",
    "        <td><img src=\"images/dog_super_class.png\"></td>\n",
    "        <td></td>\n",
    "    </tr>\n",
    "</table>\n",
    "\n",
    "\n",
    "\n",
    "### Clase Perro\n",
    "\n",
    "<table class='col-md-4'>\n",
    "    <thead>\n",
    "        <tr>\n",
    "            <th>Atributos</th>\n",
    "            <th>Métodos</th>\n",
    "        </tr>\n",
    "    </thead>\n",
    "        <tr>\n",
    "            <td>nombre</td>\n",
    "            <td>ladrar</td>\n",
    "        </tr>     \n",
    "        <tr>\n",
    "            <td>edad</td>\n",
    "            <td>mover_cola</td>\n",
    "        </tr>        \n",
    "        <tr>\n",
    "            <td>sexo</td>\n",
    "            <td>caminar</td>\n",
    "        </tr>\n",
    "</table>    \n"
   ]
  },
  {
   "cell_type": "markdown",
   "metadata": {},
   "source": [
    "<br>\n",
    "<br>\n",
    "\n",
    "Definimos una clase **Dog**, y creamos 2 instancias de perros, cada una asignada a diferentes objetos.\n",
    "\n",
    "Para crear una instancia, usamos el nombre de la clase, seguida de parentesis."
   ]
  },
  {
   "cell_type": "code",
   "execution_count": 12,
   "metadata": {},
   "outputs": [
    {
     "name": "stdout",
     "output_type": "stream",
     "text": [
      "<__main__.Dog object at 0x7ff66c535048> <__main__.Dog object at 0x7ff66c4cb320>\n"
     ]
    }
   ],
   "source": [
    "# Creamos una clase\n",
    "class Dog:\n",
    "    pass\n",
    "\n",
    "# Creamos los objetos\n",
    "ruffy = Dog()\n",
    "nami = Dog()\n",
    "\n",
    "print(ruffy, nami)"
   ]
  },
  {
   "cell_type": "markdown",
   "metadata": {},
   "source": [
    "<br>\n",
    "<br>\n",
    "\n",
    "### Atributos de Instancia y de Clase\n",
    "\n",
    "Podemos usar un **constructor** para iniciar los atributos de la clase.\n",
    "Estos son pasados al método **__init__**, el cual se llama siempre que creamos una instancia."
   ]
  },
  {
   "cell_type": "code",
   "execution_count": 16,
   "metadata": {},
   "outputs": [
    {
     "name": "stdout",
     "output_type": "stream",
     "text": [
      "ruffy is a 7 years old dog.\n",
      "---\n",
      "zoro is a 8 years old dog.\n"
     ]
    }
   ],
   "source": [
    "class Dog:\n",
    "    \n",
    "    # Atributos de Instancia, únicos para cada objeto.\n",
    "    def __init__(self, name, age):\n",
    "        # Attributes\n",
    "        self.name = name\n",
    "        self.age = age\n",
    "        \n",
    "\n",
    "ruffy = Dog('ruffy', 7)\n",
    "nami = Dog('nami', 6)\n",
    "zoro = Dog('zoro', 8)\n",
    "\n",
    "\n",
    "print(f'{ruffy.name} is a {ruffy.age} years old dog.')\n",
    "print('---')\n",
    "print(f'{zoro.name} is a {zoro.age} years old dog.')\n"
   ]
  },
  {
   "cell_type": "markdown",
   "metadata": {},
   "source": [
    "#### Ejercicio 1a:\n",
    "\n",
    "Cree un método que reciba una lista de perros, y devuelva la edad y nombre del perro mas viejo."
   ]
  },
  {
   "cell_type": "code",
   "execution_count": 19,
   "metadata": {},
   "outputs": [
    {
     "data": {
      "text/plain": [
       "('zoro', 8)"
      ]
     },
     "execution_count": 19,
     "metadata": {},
     "output_type": "execute_result"
    }
   ],
   "source": [
    "################################\n",
    "####     YOUR CODE HERE!    ####\n",
    "################################"
   ]
  },
  {
   "cell_type": "markdown",
   "metadata": {},
   "source": [
    "<br>\n",
    "<br>\n",
    "\n",
    "### Métodos de Instancia\n",
    "\n",
    "Estos métodos están definidos dentro de una clase y son usado para obtener los contenidos de una instancia. Pueden ser usados para realizar operaciones con los atributos de los objetos.\n",
    "\n",
    "El primer argumento siempre es `self`"
   ]
  },
  {
   "cell_type": "code",
   "execution_count": 15,
   "metadata": {},
   "outputs": [
    {
     "name": "stdout",
     "output_type": "stream",
     "text": [
      "ruffy says Woof Woof.\n"
     ]
    }
   ],
   "source": [
    "class Dog:\n",
    "    \n",
    "    # Constructor / Initializer\n",
    "    def __init__(self, name, age):\n",
    "        # Attributes\n",
    "        self.name = name\n",
    "        self.age = age\n",
    "        \n",
    "    # Instance Method\n",
    "    def speak(self, sound):\n",
    "        return f'{self.name} says {sound}.'\n",
    "    \n",
    "\n",
    "# Instanciate the Dog object\n",
    "ruffy = Dog('ruffy', 7)\n",
    "\n",
    "print( ruffy.speak('Woof Woof') )\n",
    "    "
   ]
  },
  {
   "cell_type": "markdown",
   "metadata": {},
   "source": [
    "### Ejercicio 1b:\n",
    "\n",
    "Complete la clase Perro con los demás atributos y métodos que se presentaron orignialmente.\n",
    "\n",
    "<table class='col-md-4'>\n",
    "    <thead>\n",
    "        <tr>\n",
    "            <th>Atributos</th>\n",
    "            <th>Métodos</th>\n",
    "        </tr>\n",
    "    </thead>\n",
    "        <tr>\n",
    "            <td>nombre</td>\n",
    "            <td>ladrar</td>\n",
    "        </tr>     \n",
    "        <tr>\n",
    "            <td>edad</td>\n",
    "            <td>mover_cola</td>\n",
    "        </tr>        \n",
    "        <tr>\n",
    "            <td>sexo</td>\n",
    "            <td>caminar</td>\n",
    "        </tr>\n",
    "</table>    \n"
   ]
  },
  {
   "cell_type": "code",
   "execution_count": null,
   "metadata": {},
   "outputs": [],
   "source": [
    "################################\n",
    "####     YOUR CODE HERE!    ####\n",
    "################################"
   ]
  },
  {
   "cell_type": "markdown",
   "metadata": {},
   "source": [
    "<br>\n",
    "<br>\n",
    "\n",
    "## Ejemplo 2: Juego de Cartas\n",
    "\n",
    "<img src=\"images/cards.png\" width=50%>\n",
    "\n",
    "\n",
    "## Dunder Methods y SobreCarga de Operadores\n",
    "\n",
    "En python, estos métodos son un conjunto predefinido que se puede usar para enriquecer las clases creadas.\n",
    "Estos métodos se reconocen por tener dos guiones bajos al comienzo y al final, por ejemplo `__init__` o `__repr__`.\n",
    "\n",
    "\n",
    "### Inicializar objetos: `__init__`"
   ]
  },
  {
   "cell_type": "code",
   "execution_count": 9,
   "metadata": {},
   "outputs": [
    {
     "name": "stdout",
     "output_type": "stream",
     "text": [
      "<__main__.Card object at 0x7f84805a3080>\n"
     ]
    }
   ],
   "source": [
    "class Card:\n",
    "    # suit -> pinta (trebol, diamante, corazón, picas)\n",
    "    # rank -> rango (A,2,3,4,5,6,7,8,9,10,J,Q,K)\n",
    "    def __init__(self, suit=0, rank=0):\n",
    "        self.suit = suit\n",
    "        self.rank = rank        \n",
    "\n",
    "tres_de_treboles = Card(0,3)\n",
    "\n",
    "print(tres_de_treboles)"
   ]
  },
  {
   "cell_type": "markdown",
   "metadata": {},
   "source": [
    "<br>\n",
    "<br>\n",
    "\n",
    "### Representación de Objetos: `__str__` y `__repr__`\n",
    "\n",
    "Retorna una representación en string para mejorar la presentación hacia el usuario."
   ]
  },
  {
   "cell_type": "code",
   "execution_count": 18,
   "metadata": {},
   "outputs": [
    {
     "name": "stdout",
     "output_type": "stream",
     "text": [
      "3 of Clubs\n"
     ]
    },
    {
     "data": {
      "text/plain": [
       "Card(3, Clubs)"
      ]
     },
     "execution_count": 18,
     "metadata": {},
     "output_type": "execute_result"
    }
   ],
   "source": [
    "class Card:\n",
    "\n",
    "    SUITS = ('Clubs', 'Diamonds', 'Hearts', 'Spades')\n",
    "    RANKS = ('none', 'Ace', '2', '3', '4', '5', '6', '7', '8', '9', '10', 'Jack', 'Queen', 'King')\n",
    "    \n",
    "    def __init__(self, suit=0, rank=0):\n",
    "        self.suit = suit\n",
    "        self.rank = rank\n",
    "     \n",
    "    # Representación Externa\n",
    "    def __str__(self):\n",
    "        return f'{Card.RANKS[self.rank]} of {Card.SUITS[self.suit]}'\n",
    "    \n",
    "    # Representación Interna\n",
    "    def __repr__(self):\n",
    "        return f'Card({Card.RANKS[self.rank]}, {Card.SUITS[self.suit]})'\n",
    "    \n",
    "tres_de_treboles = Card(0,3)\n",
    "\n",
    "print( tres_de_treboles )\n",
    "\n",
    "tres_de_treboles"
   ]
  },
  {
   "cell_type": "markdown",
   "metadata": {},
   "source": [
    "<br>\n",
    "<br>\n",
    "\n",
    "### Comparación de Objetos: `__lt__`, `_gt__`,`__le__`,`__ge__`,`__eq__`,`__ne__`\n",
    "\n",
    "\n",
    "Para los tipos primitivos, existen operadores condicionales (<, >, <=, >=, ==, !=) para determinar cuando un valor es mayor que otro.\n",
    "\n",
    "Podemos hacer que las cartas sean comparables entre si, si las tenemos en una lista es posible ordenarlas."
   ]
  },
  {
   "cell_type": "code",
   "execution_count": 23,
   "metadata": {},
   "outputs": [
    {
     "data": {
      "text/plain": [
       "Card(10, Spades)"
      ]
     },
     "execution_count": 23,
     "metadata": {},
     "output_type": "execute_result"
    }
   ],
   "source": [
    "class Card:\n",
    "\n",
    "    SUITS = ('Clubs', 'Diamonds', 'Hearts', 'Spades')\n",
    "    RANKS = ('none', 'Ace', '2', '3', '4', '5', '6', '7', '8', '9', '10', 'Jack', 'Queen', 'King')\n",
    "    \n",
    "    def __init__(self, suit=0, rank=0):\n",
    "        self.suit = suit\n",
    "        self.rank = rank\n",
    "        \n",
    "    def __str__(self):\n",
    "        return f'{Card.RANKS[self.rank]} of {Card.SUITS[self.suit]}'\n",
    "    \n",
    "    def __repr__(self):\n",
    "        return f'Card({Card.RANKS[self.rank]}, {Card.SUITS[self.suit]})'\n",
    "    \n",
    "    # Menor que...\n",
    "    def __lt__(self, other):\n",
    "        return ((self.suit < other.suit) or (self.rank < other.rank))\n",
    "    \n",
    "    # Menor o igual que...\n",
    "    def __le__(self, other):\n",
    "        return ((self.suit <= other.suit) or (self.rank <= other.rank))\n",
    "    \n",
    "\n",
    "tres_de_treboles = Card(0, 3)\n",
    "diez_de_picas = Card(3, 10)\n",
    "cuatro_de_corazones = Card(2, 4)\n",
    "\n",
    "max([cuatro_de_corazones, diez_de_picas, tres_de_treboles, ])"
   ]
  },
  {
   "cell_type": "markdown",
   "metadata": {},
   "source": [
    "<br>\n",
    "<br>\n",
    "\n",
    "## Ejercicio Final:\n",
    "\n",
    "1. Cree la clase **Deck** que tenga los 52 tipos de cartas al momento de ser creada, y que implemente los métodos:\n",
    "\n",
    "    * shuffle: Desordena las cartas con un orden aleatorio. \n",
    "    * pop: Devuelve una carta de la parte de arriba de la baraja.\n",
    "    * is_empty: Devuelve True si la baraja no tiene mas cartas.\n",
    "    \n",
    "    \n",
    "2. Cree la clase **Player** que tenga un nombre y una lista de cartas, y que implemente los métodos:\n",
    "\n",
    "    * add: Recibe una carta y la añade a la lista de cartas del jugador, máximo 5 cartas.\n",
    "   \n",
    "   \n",
    "3. Modifique la clase **Deck** para implementar el método:\n",
    "\n",
    "    * deal: Recibe una lista de jugadores, revuelve las cartas y entrega carta por carta a cada jugador hasta un máximo de 5 cartas para cada uno.\n"
   ]
  },
  {
   "cell_type": "code",
   "execution_count": null,
   "metadata": {},
   "outputs": [],
   "source": []
  }
 ],
 "metadata": {
  "kernelspec": {
   "display_name": "Python 3",
   "language": "python",
   "name": "python3"
  },
  "language_info": {
   "codemirror_mode": {
    "name": "ipython",
    "version": 3
   },
   "file_extension": ".py",
   "mimetype": "text/x-python",
   "name": "python",
   "nbconvert_exporter": "python",
   "pygments_lexer": "ipython3",
   "version": "3.7.1"
  },
  "toc": {
   "base_numbering": 1,
   "nav_menu": {},
   "number_sections": true,
   "sideBar": true,
   "skip_h1_title": false,
   "title_cell": "Table of Contents",
   "title_sidebar": "Contents",
   "toc_cell": false,
   "toc_position": {},
   "toc_section_display": true,
   "toc_window_display": true
  },
  "varInspector": {
   "cols": {
    "lenName": 16,
    "lenType": 16,
    "lenVar": 40
   },
   "kernels_config": {
    "python": {
     "delete_cmd_postfix": "",
     "delete_cmd_prefix": "del ",
     "library": "var_list.py",
     "varRefreshCmd": "print(var_dic_list())"
    },
    "r": {
     "delete_cmd_postfix": ") ",
     "delete_cmd_prefix": "rm(",
     "library": "var_list.r",
     "varRefreshCmd": "cat(var_dic_list()) "
    }
   },
   "types_to_exclude": [
    "module",
    "function",
    "builtin_function_or_method",
    "instance",
    "_Feature"
   ],
   "window_display": false
  }
 },
 "nbformat": 4,
 "nbformat_minor": 2
}
