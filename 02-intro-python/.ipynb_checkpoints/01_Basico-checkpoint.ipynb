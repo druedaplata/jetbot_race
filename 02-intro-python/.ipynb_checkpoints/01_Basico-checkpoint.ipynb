{
 "cells": [
  {
   "cell_type": "markdown",
   "metadata": {
    "slideshow": {
     "slide_type": "slide"
    }
   },
   "source": [
    "# Introducción a Python\n",
    "\n",
    "<img src=\"images/python.png\">\n",
    "\n",
    "Python es un lenguaje de programación interpretado cuya filosofía hace hincapié en una sintaxis muy limpia y que favorezca un código legible.\n",
    "\n",
    "- Fue creado en 1991 por Guido van Rossum.\n",
    "- El nombre del lenguaje proviene de la afición de su creador original, por los humoristas británicos Monty Python.\n",
    "\n",
    "<br>\n",
    "<br>"
   ]
  },
  {
   "cell_type": "markdown",
   "metadata": {
    "slideshow": {
     "slide_type": "subslide"
    }
   },
   "source": [
    "## Características de Python\n",
    "\n",
    "- Código simple y legible.\n",
    "- Es un lenguaje interpretado y de alto nivel.\n",
    "- Soporta múltiples paradigmas de programación.\n",
    "- Fácilmente extendible usando código compilado en `C` y `C++`\n",
    "- Se ejecuta en cualquier sistema operativo (Windows, Linux, Mac OS)\n",
    "- Es totálmente libre.\n",
    "\n",
    "<img src=\"images/python_pypl.png\" width=\"40%\" align=\"center\">\n",
    "\n",
    "\n",
    "[1. Top 10 popular programming languages.](http://pypl.github.io/PYPL.html)\n",
    "\n",
    "<br>\n",
    "<br>\n",
    "\n",
    "## Python vs Matlab\n",
    "\n",
    "[Comparación](https://trends.google.com/trends/explore?date=today%205-y&q=%2Fm%2F05z1_,%2Fm%2F053_x) en Google Trends.\n",
    "\n",
    "<br>\n",
    "<br>"
   ]
  },
  {
   "cell_type": "markdown",
   "metadata": {
    "slideshow": {
     "slide_type": "subslide"
    }
   },
   "source": [
    "### En qué áreas sobresale Python?\n",
    "\n",
    "* Desarrollo de Aplicaciones Web\n",
    "* Computación científica y numérica.\n",
    "* Inteligencia Artificial\n",
    "* Desarrolllo de GUI\n",
    "\n",
    "<img src=\"images/python_pypl2.png\">\n",
    "\n",
    "[2. Programming language trends.](http://pypl.github.io/PYPL.html)\n",
    "\n",
    "<br>\n",
    "<br>\n",
    "<br>"
   ]
  },
  {
   "cell_type": "markdown",
   "metadata": {
    "slideshow": {
     "slide_type": "slide"
    }
   },
   "source": [
    "# Instalación de Python con Anaconda\n",
    "\n",
    "<img src=\"images/anaconda_logo.png\" width=\"20%\">\n",
    "\n",
    "## En Linux:\n",
    "\n",
    "### Tutorial\n",
    "<https://www.pugetsystems.com/labs/hpc/How-to-Install-Anaconda-Python-and-First-Steps-for-Linux-and-Windows-917/>\n",
    "\n",
    "1. Descargar la distribución de python3.6 de [anaconda](https://www.anaconda.com/download/#linux) para Linux (en nuestro caso ya fue descargada).\n",
    "\n",
    "\n",
    "2. Abrir un terminal en Linux\n",
    "  * `CTRL`+`ALT`+`T`\n",
    "  \n",
    "  \n",
    "3. Ir al directorio donde está el archivo descargado usando\n",
    "  * `cd Escritorio/02-intro-python/`\n",
    "  \n",
    "  \n",
    "4. Para instalar la distribución digite:\n",
    "  * `bash Anaconda3-5.2.0-Linux-x86_64.sh`\n",
    "  \n",
    "  \n",
    "5. En caso de duda, seguir las configuraciones por defecto.\n",
    "\n",
    "\n",
    "6. Si le preguntan, autorizar a conda a actualizar la variable `PATH` para que conda y python sean visibles para todo el sistema. En otro caso, posiblemente tendremos que hacerlo a mano agregando al archivo `~/.bashrc` la línea:\n",
    "  * `export PATH=\"/home/centic/anaconda3/bin:$PATH\"`\n",
    "  \n",
    "  \n",
    "7. Abrir un terminal y digitar los siguientes comandos a ver si los reconoce:\n",
    "\n",
    "  ```\n",
    "  conda list\n",
    "  \n",
    "  python --version\n",
    "  \n",
    "  which python\n",
    "  \n",
    "  which conda\n",
    "  \n",
    "  ```\n",
    "\n",
    "6. Desde el terminal abrir el interprete de python usando `ipython`\n",
    "\n",
    "<img src=\"images/python_ready.png\">\n",
    "\n",
    "<br>\n",
    "<br>\n",
    "<br>\n",
    "\n",
    "---"
   ]
  },
  {
   "cell_type": "code",
   "execution_count": null,
   "metadata": {},
   "outputs": [],
   "source": []
  },
  {
   "cell_type": "code",
   "execution_count": null,
   "metadata": {},
   "outputs": [],
   "source": []
  },
  {
   "cell_type": "code",
   "execution_count": null,
   "metadata": {},
   "outputs": [],
   "source": []
  },
  {
   "cell_type": "code",
   "execution_count": null,
   "metadata": {},
   "outputs": [],
   "source": []
  },
  {
   "cell_type": "code",
   "execution_count": null,
   "metadata": {},
   "outputs": [],
   "source": [
    "print('Hola mundo!')"
   ]
  },
  {
   "cell_type": "markdown",
   "metadata": {
    "slideshow": {
     "slide_type": "slide"
    }
   },
   "source": [
    "<br>\n",
    "<br>\n",
    "\n",
    "## Operaciones numéricas\n",
    "\n",
    "Python dispone de los tipos numéricos y las operaciones más habituales"
   ]
  },
  {
   "cell_type": "code",
   "execution_count": null,
   "metadata": {},
   "outputs": [],
   "source": [
    "2 * 4 - (7-1) / 3 + 1.3"
   ]
  },
  {
   "cell_type": "markdown",
   "metadata": {},
   "source": [
    "<br>\n",
    "<br>\n",
    "Las divisiones por cero lanzan un error:"
   ]
  },
  {
   "cell_type": "code",
   "execution_count": null,
   "metadata": {},
   "outputs": [],
   "source": [
    "1 / 0"
   ]
  },
  {
   "cell_type": "markdown",
   "metadata": {},
   "source": [
    "La división entre enteros devuelve un número real."
   ]
  },
  {
   "cell_type": "code",
   "execution_count": null,
   "metadata": {},
   "outputs": [],
   "source": [
    "7 / 3"
   ]
  },
  {
   "cell_type": "markdown",
   "metadata": {},
   "source": [
    "Se puede forzar que la división sea entera en Python con el operador `//`"
   ]
  },
  {
   "cell_type": "code",
   "execution_count": null,
   "metadata": {},
   "outputs": [],
   "source": [
    "7 // 3"
   ]
  },
  {
   "cell_type": "markdown",
   "metadata": {},
   "source": [
    "Se puede realizar potenciación usando el operador `**`"
   ]
  },
  {
   "cell_type": "code",
   "execution_count": null,
   "metadata": {},
   "outputs": [],
   "source": [
    "2 ** 10"
   ]
  },
  {
   "cell_type": "markdown",
   "metadata": {},
   "source": [
    "Y podemos obtener el módulo de una división usando `%`"
   ]
  },
  {
   "cell_type": "code",
   "execution_count": null,
   "metadata": {},
   "outputs": [],
   "source": [
    "129 % 2"
   ]
  },
  {
   "cell_type": "markdown",
   "metadata": {},
   "source": [
    "Otro tipo que nos resultará muy útil son los complejos"
   ]
  },
  {
   "cell_type": "code",
   "execution_count": null,
   "metadata": {},
   "outputs": [],
   "source": [
    "2 + 3j"
   ]
  },
  {
   "cell_type": "markdown",
   "metadata": {
    "slideshow": {
     "slide_type": "subslide"
    }
   },
   "source": [
    "## Variables\n",
    "\n",
    "Python reconoce automáticamente qué tipo de variable se está creando.\n",
    "\n",
    "- La asignación se realiza con el operador `=`\n",
    "- Los nombres de variables pueden contener letras, números y guión bajo."
   ]
  },
  {
   "cell_type": "code",
   "execution_count": null,
   "metadata": {
    "slideshow": {
     "slide_type": "-"
    }
   },
   "outputs": [],
   "source": [
    "a = 5        # a es un entero\n",
    "b = 'diego'  # b es una cadena de texto\n",
    "c = 2.713    # c es un punto flotante\n",
    "d = 1+5j     # d es un complejo"
   ]
  },
  {
   "cell_type": "code",
   "execution_count": null,
   "metadata": {
    "slideshow": {
     "slide_type": "fragment"
    }
   },
   "outputs": [],
   "source": [
    "type(a)"
   ]
  },
  {
   "cell_type": "code",
   "execution_count": null,
   "metadata": {},
   "outputs": [],
   "source": [
    "type(b)"
   ]
  },
  {
   "cell_type": "code",
   "execution_count": null,
   "metadata": {},
   "outputs": [],
   "source": [
    "type(c)"
   ]
  },
  {
   "cell_type": "code",
   "execution_count": null,
   "metadata": {},
   "outputs": [],
   "source": [
    "type(d)"
   ]
  },
  {
   "cell_type": "markdown",
   "metadata": {
    "slideshow": {
     "slide_type": "subslide"
    }
   },
   "source": [
    "#### Podemos convertir variables a otros tipos."
   ]
  },
  {
   "cell_type": "code",
   "execution_count": null,
   "metadata": {
    "slideshow": {
     "slide_type": "-"
    }
   },
   "outputs": [],
   "source": [
    "int(c)"
   ]
  },
  {
   "cell_type": "code",
   "execution_count": null,
   "metadata": {},
   "outputs": [],
   "source": [
    "float(a)"
   ]
  },
  {
   "cell_type": "code",
   "execution_count": null,
   "metadata": {},
   "outputs": [],
   "source": [
    "complex(a)"
   ]
  },
  {
   "cell_type": "code",
   "execution_count": null,
   "metadata": {},
   "outputs": [],
   "source": [
    "str(256568)"
   ]
  },
  {
   "cell_type": "markdown",
   "metadata": {},
   "source": [
    "<br>\n",
    "<br>\n",
    "<br>\n",
    "<br>\n",
    "<br>\n",
    "\n",
    "\n",
    "\n",
    "\n",
    "Podemos realizar **asignaciones múltiples**"
   ]
  },
  {
   "cell_type": "code",
   "execution_count": null,
   "metadata": {},
   "outputs": [],
   "source": [
    "a, b = 5, 100\n",
    "a, b"
   ]
  },
  {
   "cell_type": "markdown",
   "metadata": {},
   "source": [
    "### Ejercicio 1.a \n",
    "\n",
    "Intercambiar los valores de las variables `a` y `b` USANDO OTRA VARIABLE COMO ALMACENAMIENTO TEMPORAL"
   ]
  },
  {
   "cell_type": "code",
   "execution_count": null,
   "metadata": {},
   "outputs": [],
   "source": [
    "\n",
    "\n"
   ]
  },
  {
   "cell_type": "markdown",
   "metadata": {},
   "source": [
    "Intercambiar los valores de las variables `a` y `b` DE LA MANERA PYTHONICA"
   ]
  },
  {
   "cell_type": "code",
   "execution_count": null,
   "metadata": {},
   "outputs": [],
   "source": [
    "# No se preocupen este lo hago yo\n",
    "\n"
   ]
  },
  {
   "cell_type": "markdown",
   "metadata": {},
   "source": [
    "---\n",
    "\n",
    "<br>\n",
    "<br>\n",
    "<br>\n",
    "\n",
    "## Operadores de comparación\n",
    "\n",
    "Los operadores de comparación son:\n",
    "\n",
    "- `==` igual a\n",
    "- `!=` distinto de\n",
    "- `<` menor que\n",
    "- `<=` menor o igual que\n",
    "\n",
    "Devolverán un booleano: `True` o `False`"
   ]
  },
  {
   "cell_type": "code",
   "execution_count": null,
   "metadata": {},
   "outputs": [],
   "source": [
    "a,b = 5, 100"
   ]
  },
  {
   "cell_type": "code",
   "execution_count": null,
   "metadata": {},
   "outputs": [],
   "source": [
    "a == b"
   ]
  },
  {
   "cell_type": "code",
   "execution_count": null,
   "metadata": {},
   "outputs": [],
   "source": [
    "a != b"
   ]
  },
  {
   "cell_type": "code",
   "execution_count": null,
   "metadata": {},
   "outputs": [],
   "source": [
    "print(a < b)\n",
    "print(a <= b)\n",
    "print(a > b)\n",
    "print(a >= b)"
   ]
  },
  {
   "cell_type": "markdown",
   "metadata": {},
   "source": [
    "Podemos incluso saber si un número está en un intervalo"
   ]
  },
  {
   "cell_type": "code",
   "execution_count": null,
   "metadata": {},
   "outputs": [],
   "source": [
    "x = 5\n",
    "\n",
    "3 < x < 10"
   ]
  },
  {
   "cell_type": "markdown",
   "metadata": {},
   "source": [
    "<br>\n",
    "<br>\n",
    "\n",
    "## Booleanos"
   ]
  },
  {
   "cell_type": "code",
   "execution_count": null,
   "metadata": {},
   "outputs": [],
   "source": [
    "True and False"
   ]
  },
  {
   "cell_type": "code",
   "execution_count": null,
   "metadata": {},
   "outputs": [],
   "source": [
    "not False"
   ]
  },
  {
   "cell_type": "code",
   "execution_count": null,
   "metadata": {},
   "outputs": [],
   "source": [
    "True or False"
   ]
  },
  {
   "cell_type": "code",
   "execution_count": null,
   "metadata": {},
   "outputs": [],
   "source": [
    "# Una curiosidad\n",
    "(True + True) * 10\n",
    "\n",
    "# Además note el uso del símbolo # para agregar comentarios al código"
   ]
  },
  {
   "cell_type": "markdown",
   "metadata": {
    "slideshow": {
     "slide_type": "slide"
    }
   },
   "source": [
    "<br>\n",
    "<br>\n",
    "<br>\n",
    "<br>\n",
    "\n",
    "# Estructuras de datos\n",
    "\n",
    "Colección de elementos usados para almacenar datos relacionados.  \n",
    "Principales tipos de estructuras: listas, tuplas, diccionarios"
   ]
  },
  {
   "cell_type": "markdown",
   "metadata": {
    "slideshow": {
     "slide_type": "subslide"
    }
   },
   "source": [
    "## Listas\n",
    "\n",
    "- Se pueden modificar, añadir o eliminar elementos.\n",
    "- Se crean usando corchetes rectos `[ ]` o el método `list()`\n"
   ]
  },
  {
   "cell_type": "code",
   "execution_count": null,
   "metadata": {
    "slideshow": {
     "slide_type": "-"
    }
   },
   "outputs": [],
   "source": [
    "lista = [1, 2, 3.0, 4.17, '5' ]\n",
    "lista"
   ]
  },
  {
   "cell_type": "code",
   "execution_count": null,
   "metadata": {},
   "outputs": [],
   "source": [
    "lista.append('6')  # Añadir un elemento\n",
    "lista.remove(3.0)  # Eliminar un elemento\n",
    "\n",
    "print(lista)\n",
    "print(lista[0])    # Acceder al primer elemento, empieza en CERO\n",
    "print(lista[3])    # Acceder al cuarto elemento\n",
    "print(lista[-1])   # Acceder al último elemento\n"
   ]
  },
  {
   "cell_type": "markdown",
   "metadata": {
    "slideshow": {
     "slide_type": "subslide"
    }
   },
   "source": [
    "<br>\n",
    "<br>\n",
    "\n",
    "## Tuplas\n",
    "\n",
    "- No se pueden modificar después de creadas.\n",
    "- La creación y acceso a una tupla es más rápida que a una lista\n",
    "- Se crean usando parentesis `( )` o el método `tuple()`"
   ]
  },
  {
   "cell_type": "code",
   "execution_count": null,
   "metadata": {},
   "outputs": [],
   "source": [
    "tupla = (1, '2', 3, 4.0, 5e-17)\n",
    "tupla"
   ]
  },
  {
   "cell_type": "code",
   "execution_count": null,
   "metadata": {},
   "outputs": [],
   "source": [
    "print(tupla[-1])   # Acceso es igual que con listas"
   ]
  },
  {
   "cell_type": "markdown",
   "metadata": {},
   "source": [
    "<br>\n",
    "\n",
    "### Otras funciones útiles"
   ]
  },
  {
   "cell_type": "code",
   "execution_count": null,
   "metadata": {},
   "outputs": [],
   "source": [
    "# Tamaño de la colección\n",
    "len(lista), len(tupla)"
   ]
  },
  {
   "cell_type": "code",
   "execution_count": null,
   "metadata": {},
   "outputs": [],
   "source": [
    "2 in lista"
   ]
  },
  {
   "cell_type": "markdown",
   "metadata": {},
   "source": [
    "<br>\n",
    "<br>\n",
    "\n",
    "### Podemos indexar las secuencias, utilizando la sintaxis \n",
    "`[<inicio>:<final>:<salto>]`"
   ]
  },
  {
   "cell_type": "code",
   "execution_count": null,
   "metadata": {},
   "outputs": [],
   "source": [
    "a = [0, 1, 2, 3, 4, 5, 6, 7, 8, 9]\n",
    "\n",
    "print(a)  \n",
    "\n",
    "print(a[0:10:1])\n",
    "\n",
    "print(a[:4] )  # Imprime desde el primero hasta el cuarto elemento\n",
    "\n",
    "print(a[::2])  # Imprime desde el comienzo al final, en saltos de 2\n",
    "\n",
    "print(a[::-1]) # Revierte la lista\n"
   ]
  },
  {
   "cell_type": "markdown",
   "metadata": {
    "slideshow": {
     "slide_type": "subslide"
    }
   },
   "source": [
    "### Diccionarios\n",
    "\n",
    "- Son una forma más avanzada para manipular colecciones de datos.\n",
    "- Cada elemento requiere una llave y un valor.\n",
    "- Se crean usando corchetes `{ clave : valor }` o el método `dict()`"
   ]
  },
  {
   "cell_type": "code",
   "execution_count": null,
   "metadata": {},
   "outputs": [],
   "source": [
    "diccionario = {\n",
    "    'nombre'  : 'Diego', \n",
    "    'celular' : 'Nokia 1100'\n",
    "    }\n",
    "\n",
    "diccionario"
   ]
  },
  {
   "cell_type": "code",
   "execution_count": null,
   "metadata": {},
   "outputs": [],
   "source": [
    "diccionario['nombre']   # Los elementos se acceden con la clave."
   ]
  },
  {
   "cell_type": "code",
   "execution_count": null,
   "metadata": {},
   "outputs": [],
   "source": [
    "# Los elementos pueden ser modificados,\n",
    "# y se pueden eliminar o agregar elementos\n",
    "diccionario['nombre'] = 'Andrés'\n",
    "\n",
    "diccionario['números'] = [5,7,11]\n",
    "\n",
    "print(diccionario)"
   ]
  },
  {
   "cell_type": "markdown",
   "metadata": {
    "slideshow": {
     "slide_type": "slide"
    }
   },
   "source": [
    "<br>\n",
    "<br>\n",
    "<br>\n",
    "\n",
    "\n",
    "# Indentación en Python\n",
    "\n",
    "Python usa el espacio en blanco y la indentación para agrupar los bloques de código.\n",
    "\n",
    "En otros lenguajes se usa el punto y coma `;` y los corchetes `{}` para saber dónde termina un bloque de código, y la indentación es un estilo para leer mejor.\n",
    "\n",
    "\n",
    "La recomendación de estilo para Python [PEP-8](https://www.python.org/dev/peps/pep-0008/) es usar **4 ESPACIOS** para indentar el código.\n",
    "\n",
    "<img src=\"images/blocks.png\">"
   ]
  },
  {
   "cell_type": "markdown",
   "metadata": {
    "slideshow": {
     "slide_type": "slide"
    }
   },
   "source": [
    "<br>\n",
    "<br>\n",
    "<br>\n",
    "\n",
    "## La Estructura `if`\n",
    "\n",
    "### *Especial atención a la indentación a 4 espacios y los dos puntos después del IF*"
   ]
  },
  {
   "cell_type": "code",
   "execution_count": null,
   "metadata": {},
   "outputs": [],
   "source": [
    "x = 1\n",
    "\n",
    "if x > 0:\n",
    "    print('Es un número positivo.')"
   ]
  },
  {
   "cell_type": "markdown",
   "metadata": {},
   "source": [
    "<br>"
   ]
  },
  {
   "cell_type": "code",
   "execution_count": null,
   "metadata": {
    "slideshow": {
     "slide_type": "-"
    }
   },
   "outputs": [],
   "source": [
    "x = int(input(\"Por favor, introduzca un número: \"))\n",
    "\n",
    "if x > 0:\n",
    "    print('Es un número positivo')\n",
    "elif x == 0:\n",
    "    print('Cero')\n",
    "else:\n",
    "    print('Es negativo')\n"
   ]
  },
  {
   "cell_type": "markdown",
   "metadata": {
    "slideshow": {
     "slide_type": "subslide"
    }
   },
   "source": [
    "<br>\n",
    "\n",
    "## La Estructura `for`\n",
    "\n",
    "Podemos iterar sobre todas las estructuras de datos."
   ]
  },
  {
   "cell_type": "code",
   "execution_count": null,
   "metadata": {},
   "outputs": [],
   "source": [
    "words = ['gato', 'ventana', 'melifluo']\n",
    "\n",
    "for w in words:\n",
    "    print(w, len(w))"
   ]
  },
  {
   "cell_type": "code",
   "execution_count": null,
   "metadata": {},
   "outputs": [],
   "source": [
    "numbers = (0,1,2,3,4,5,6,7,8,9)\n",
    "\n",
    "for n in numbers:\n",
    "    print(n)\n",
    "    if n == 7:\n",
    "        print('Salimos del loop al llegar al siete.')\n",
    "        break"
   ]
  },
  {
   "cell_type": "code",
   "execution_count": null,
   "metadata": {},
   "outputs": [],
   "source": [
    "diccionario = {\n",
    "    'nombre'  : 'Diego', \n",
    "    'celular' : 'Nokia 1100'\n",
    "    }\n",
    "\n",
    "for key, value in diccionario.items():\n",
    "    print(key)\n",
    "    print(value)"
   ]
  },
  {
   "cell_type": "markdown",
   "metadata": {},
   "source": [
    "<br>\n",
    "<br>\n",
    "\n",
    "### La Función `range`"
   ]
  },
  {
   "cell_type": "markdown",
   "metadata": {},
   "source": [
    "### range( stop)"
   ]
  },
  {
   "cell_type": "code",
   "execution_count": null,
   "metadata": {},
   "outputs": [],
   "source": [
    "# Imprime los números del 0 al 4\n",
    "for i in range(3):\n",
    "    for j in range(3):\n",
    "        print(i,j)\n",
    "    \n",
    "    print('Esta linea pertenece al bucle-i, pero no al bucle-j')"
   ]
  },
  {
   "cell_type": "markdown",
   "metadata": {},
   "source": [
    "### range( start, stop, step)"
   ]
  },
  {
   "cell_type": "code",
   "execution_count": null,
   "metadata": {},
   "outputs": [],
   "source": [
    "# Imprime los números del 10 al 100, en pasos de 20\n",
    "for i in range(10, 101, 20):\n",
    "    print(i)"
   ]
  },
  {
   "cell_type": "markdown",
   "metadata": {
    "slideshow": {
     "slide_type": "subslide"
    }
   },
   "source": [
    "<br>\n",
    "<br>\n",
    "\n",
    "## Estructura `while`\n",
    "\n",
    "Repetir un segmento de código mientras se cumpla una condición.\n",
    "\n",
    "*Atención para evitar los búcles infinitos*"
   ]
  },
  {
   "cell_type": "code",
   "execution_count": null,
   "metadata": {},
   "outputs": [],
   "source": [
    "# Vamos a generar las potencias de 2 menores que 10000,\n",
    "# sin saber previamente cuántos números son\n",
    "a = 1\n",
    "potencias = []\n",
    "\n",
    "while( a < 10000 ):\n",
    "    potencias.append(a)\n",
    "    a = 2*a\n",
    "    print(a)\n",
    "\n",
    "print(potencias)"
   ]
  },
  {
   "cell_type": "markdown",
   "metadata": {
    "slideshow": {
     "slide_type": "slide"
    }
   },
   "source": [
    "<br>\n",
    "<br>\n",
    "<br>\n",
    "\n",
    "\n",
    "## Ejercicio 2a: \n",
    "\n",
    "Escriba un script que imprima los números del 1 al 100, pero... \n",
    "- para los múltiplos de 3 imprima `Fizz` en lugar del número\n",
    "- para los múltiplos de 5 imprima `Buzz` en lugar del número\n",
    "- para números que son múltiplos de 3 y 5 imprima `FizzBuzz`\n",
    "- los demás números deben imprimir normalmente"
   ]
  },
  {
   "cell_type": "code",
   "execution_count": null,
   "metadata": {
    "slideshow": {
     "slide_type": "fragment"
    }
   },
   "outputs": [],
   "source": [
    "\n",
    "\n",
    "\n",
    "\n",
    "\n"
   ]
  },
  {
   "cell_type": "markdown",
   "metadata": {},
   "source": [
    "<br>\n",
    "<br>\n",
    "<br>\n",
    "\n",
    "## Ejercicio 2b: \n",
    "\n",
    "Intente el mismo ejercicio, pero esta vez en lugar de imprimir los números en pantalla.\n",
    "\n",
    "- use un diccionario con las claves `Fizz`, `Buzz` y `FizzBuzz`\n",
    "- cada clave debe guardar los números en una lista"
   ]
  },
  {
   "cell_type": "code",
   "execution_count": null,
   "metadata": {},
   "outputs": [],
   "source": [
    "\n",
    "\n",
    "\n"
   ]
  },
  {
   "cell_type": "markdown",
   "metadata": {},
   "source": [
    "<br>\n",
    "<br>\n",
    "<br>\n",
    "\n",
    "\n",
    "## Copiar estructuras y Aliasing"
   ]
  },
  {
   "cell_type": "code",
   "execution_count": null,
   "metadata": {},
   "outputs": [],
   "source": [
    "# Es posible \"copiar\" un elemento de forma más directa,\n",
    "# sin embargo esto puede generar inconvenientes en algunos casos:\n",
    "lista = [1, 2, 3, 4]\n",
    "nueva_lista = lista\n",
    "\n",
    "print(lista)\n",
    "print(nueva_lista)"
   ]
  },
  {
   "cell_type": "markdown",
   "metadata": {},
   "source": [
    "<br>"
   ]
  },
  {
   "cell_type": "code",
   "execution_count": null,
   "metadata": {},
   "outputs": [],
   "source": [
    "# Cambiamos el primer elemento en nueva_lista\n",
    "nueva_lista[0] = 8\n",
    "\n",
    "print(nueva_lista)\n",
    "print(lista)"
   ]
  },
  {
   "cell_type": "markdown",
   "metadata": {},
   "source": [
    "<br>"
   ]
  },
  {
   "cell_type": "code",
   "execution_count": null,
   "metadata": {},
   "outputs": [],
   "source": [
    "id(lista), id(nueva_lista)"
   ]
  },
  {
   "cell_type": "markdown",
   "metadata": {},
   "source": [
    "<br>"
   ]
  },
  {
   "cell_type": "code",
   "execution_count": null,
   "metadata": {},
   "outputs": [],
   "source": [
    "lista = [1, 2, 3, 4]\n",
    "nueva_lista = lista.copy()\n",
    "\n",
    "nueva_lista[0] = 8\n",
    "\n",
    "print(nueva_lista)\n",
    "print(lista)"
   ]
  },
  {
   "cell_type": "code",
   "execution_count": null,
   "metadata": {},
   "outputs": [],
   "source": [
    "id(lista), id(nueva_lista)"
   ]
  },
  {
   "cell_type": "markdown",
   "metadata": {},
   "source": [
    "El problema observado en el primer caso se conoce como **_aliasing_**, y ocurre por que Python no creó una nueva variable, sino una vista de la variable original. Para evitar comportamientos indeseados, en general es más seguro utilizar el método `.copy()`"
   ]
  },
  {
   "cell_type": "markdown",
   "metadata": {
    "slideshow": {
     "slide_type": "slide"
    }
   },
   "source": [
    "---\n",
    "\n",
    "<br>\n",
    "<br>\n",
    "<br>\n",
    "<br>\n",
    "<br>\n",
    "\n",
    "# Funciones\n",
    "\n",
    "- Una función es un bloque de código reutilizable que solo corre al ser llamado.\n",
    "- Se le puede pasar parámetros de entrada.\n",
    "- Puede returnar datos como resultado.\n",
    "- Una funcion es definida usando la palabra `def`"
   ]
  },
  {
   "cell_type": "code",
   "execution_count": null,
   "metadata": {
    "slideshow": {
     "slide_type": "-"
    }
   },
   "outputs": [],
   "source": [
    "def my_function():\n",
    "    print(f'Hola mundo, desde mi función.')\n",
    "\n",
    "my_function()"
   ]
  },
  {
   "cell_type": "markdown",
   "metadata": {
    "slideshow": {
     "slide_type": "subslide"
    }
   },
   "source": [
    "<br>\n",
    "<br>\n",
    "\n",
    "### Argumentos de una función\n"
   ]
  },
  {
   "cell_type": "code",
   "execution_count": null,
   "metadata": {
    "slideshow": {
     "slide_type": "-"
    }
   },
   "outputs": [],
   "source": [
    "def my_function(nombre, msj='Bienvenido a la UIS.'):\n",
    "    print(f'Hola {nombre}, {msj}')\n",
    "    \n",
    "my_function('Diego')"
   ]
  },
  {
   "cell_type": "markdown",
   "metadata": {},
   "source": [
    "<br>"
   ]
  },
  {
   "cell_type": "code",
   "execution_count": null,
   "metadata": {},
   "outputs": [],
   "source": [
    "my_function('Diego', 'quedaste PFU.')"
   ]
  },
  {
   "cell_type": "markdown",
   "metadata": {
    "slideshow": {
     "slide_type": "subslide"
    }
   },
   "source": [
    "<br>\n",
    "<br>\n",
    "\n",
    "### Retornar valores"
   ]
  },
  {
   "cell_type": "code",
   "execution_count": null,
   "metadata": {
    "slideshow": {
     "slide_type": "-"
    }
   },
   "outputs": [],
   "source": [
    "def duplicador(x):\n",
    "    return 2*x\n",
    "\n",
    "duplicador(1)"
   ]
  },
  {
   "cell_type": "code",
   "execution_count": null,
   "metadata": {},
   "outputs": [],
   "source": [
    "def multiplicador(x,y):\n",
    "    return x*y\n",
    "\n",
    "multiplicador(7,3)"
   ]
  },
  {
   "cell_type": "markdown",
   "metadata": {},
   "source": [
    "<br>\n",
    "<br>\n",
    "<br>\n",
    "\n",
    "## Ejercicio 3a:\n",
    "\n",
    "1. Cree un archivo llamado `calculadora.py` en la misma carpeta en que está trabajando. \n",
    "\n",
    "2. En el archivo `calculadora.py` crear 4 funciones para números enteros:\n",
    "    - sumar\n",
    "    - restar\n",
    "    - multiplicar\n",
    "    - dividir, controle la división por 0 usando un if.\n",
    "\n",
    "\n",
    "3. Ahora en `ipython` podemos probar el modulo creado:  \n",
    "\n",
    "```python\n",
    "from calculadora import suma, resta, multiplicacion, division\n",
    "\n",
    "a = 1\n",
    "b = 3.14\n",
    "\n",
    "print(f'{a} + {b} = {suma(a,b)}')\n",
    "print(f'{a} - {b} = {resta(a,b)}')\n",
    "print(f'{a} * {b} = {multiplicacion(a,b)}')\n",
    "print(f'{a} / {b} = {division(a,b)}')\n",
    "print(f'{a} / {0} = {division(a,0)}')\n",
    "\n",
    "```"
   ]
  },
  {
   "cell_type": "markdown",
   "metadata": {},
   "source": [
    "## Ejercicio 3b:\n",
    "\n",
    "1. En el `jupyter notebook` cree los siguientes métodos:"
   ]
  },
  {
   "cell_type": "markdown",
   "metadata": {},
   "source": [
    "- Un método que devuelva el valor promedio de una lista de números, y tambien el mayor número en la lista.\n"
   ]
  },
  {
   "cell_type": "code",
   "execution_count": null,
   "metadata": {},
   "outputs": [],
   "source": []
  },
  {
   "cell_type": "markdown",
   "metadata": {},
   "source": [
    "- Un método que devuelva el valor de `a+aa+aaa+aaaa`, donde `a` es el argumento de entrada al método."
   ]
  },
  {
   "cell_type": "code",
   "execution_count": null,
   "metadata": {},
   "outputs": [],
   "source": []
  },
  {
   "cell_type": "markdown",
   "metadata": {},
   "source": [
    "- Un método que reciba una cadena de texto y retorne verdadero si es un palíndromo. (Se lee igual al derecho y al revés)"
   ]
  },
  {
   "cell_type": "code",
   "execution_count": null,
   "metadata": {},
   "outputs": [],
   "source": []
  },
  {
   "cell_type": "markdown",
   "metadata": {},
   "source": [
    "## Fin de la primera parte\n",
    "\n",
    "Para cerrar la sesión de `IPYTHON` digite `exit`. Para salir del terminal, digite `exit` nuevamente."
   ]
  },
  {
   "cell_type": "markdown",
   "metadata": {},
   "source": [
    "## Resumen:\n",
    "\n",
    "- Conoce las operaciones matemáticas básicas y comparadores booleanos.\n",
    "- Maneja de estructuras de datos `list`, `tuple`, `dict`\n",
    "- Entiende el bloque de código y la indentación.\n",
    "- Sabe usar las estructuras condicionales `if`, `elif`, `else`\n",
    "- Puede usar los bucles para iterar en listas y rangos `for..in`, `while`\n",
    "- Puede crear funciones e importar estas como módulos `def`, `import`"
   ]
  },
  {
   "cell_type": "markdown",
   "metadata": {},
   "source": [
    "## Referencias de Estudio Avanzado\n",
    "\n",
    "#### [CodeWars](https://www.codewars.com) - Retos de Programación en múltiples lenguajes.\n",
    "\n",
    "#### [Real Python](https://realpython.com/) -  Comunidad de Desarrollo en Python + Tutoriales"
   ]
  },
  {
   "cell_type": "code",
   "execution_count": null,
   "metadata": {},
   "outputs": [],
   "source": [
    "import this"
   ]
  },
  {
   "cell_type": "code",
   "execution_count": null,
   "metadata": {},
   "outputs": [],
   "source": [
    "import antigravity"
   ]
  }
 ],
 "metadata": {
  "kernelspec": {
   "display_name": "Python 3",
   "language": "python",
   "name": "python3"
  },
  "language_info": {
   "codemirror_mode": {
    "name": "ipython",
    "version": 3
   },
   "file_extension": ".py",
   "mimetype": "text/x-python",
   "name": "python",
   "nbconvert_exporter": "python",
   "pygments_lexer": "ipython3",
   "version": "3.7.1"
  },
  "varInspector": {
   "cols": {
    "lenName": 16,
    "lenType": 16,
    "lenVar": 40
   },
   "kernels_config": {
    "python": {
     "delete_cmd_postfix": "",
     "delete_cmd_prefix": "del ",
     "library": "var_list.py",
     "varRefreshCmd": "print(var_dic_list())"
    },
    "r": {
     "delete_cmd_postfix": ") ",
     "delete_cmd_prefix": "rm(",
     "library": "var_list.r",
     "varRefreshCmd": "cat(var_dic_list()) "
    }
   },
   "types_to_exclude": [
    "module",
    "function",
    "builtin_function_or_method",
    "instance",
    "_Feature"
   ],
   "window_display": false
  }
 },
 "nbformat": 4,
 "nbformat_minor": 2
}
