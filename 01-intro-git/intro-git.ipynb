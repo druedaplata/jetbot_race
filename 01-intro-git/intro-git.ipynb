{
 "cells": [
  {
   "cell_type": "markdown",
   "metadata": {
    "slideshow": {
     "slide_type": "slide"
    }
   },
   "source": [
    "<center>\n",
    "    <h1>Control de versiones con Git y Github</h1>\n",
    "    <img src=\"images/final_doc.gif\" width=50%>\n",
    "</center>"
   ]
  },
  {
   "cell_type": "markdown",
   "metadata": {
    "slideshow": {
     "slide_type": "subslide"
    }
   },
   "source": [
    "# Qué es control de versiones?\n",
    "\n",
    "Es un sistema que registra cambios a un archivo o conjunto de archivos durante el tiempo de manera que podamos obtener versiones específicas después.\n",
    "\n",
    "- Permite regresar un archivo a un estado anterior.\n",
    "- Revertir todo el proyecto a un estado anterior.\n",
    "- Comparar cambios en el tiempo.\n",
    "- Ver quien modificó un archivo que pueda estar fallando.\n",
    "\n",
    "<center>\n",
    "    <img src=\"images/kermit.jpg\" width=50%>\n",
    "</center>"
   ]
  },
  {
   "cell_type": "markdown",
   "metadata": {
    "heading_collapsed": true,
    "slideshow": {
     "slide_type": "subslide"
    }
   },
   "source": [
    "## Control de versiones - LOCAL\n",
    "\n",
    "Para solucionar este problema, los desarrolladores crearon bases de datos locales que guardan todos los archivos bajo control y puede revertir el estado de estos a un tiempo anterior.\n",
    "<center>\n",
    "<img src=\"images/local_vcs.png\" width=50%>\n",
    "</center>"
   ]
  },
  {
   "cell_type": "markdown",
   "metadata": {
    "heading_collapsed": true,
    "slideshow": {
     "slide_type": "subslide"
    }
   },
   "source": [
    "## Control de versiones - CENTRALIZADO\n",
    "\n",
    "El problema que encontraron con el control LOCAL es la necesidad de colaborar con otros desarrolladores en otros sistemas. Para esto se creó el sistema centralizado donde un solo servidor contiene todos los archivos en diferentes versiones y los clientes sacan la última versión del archivo del sistema central.\n",
    "<center>\n",
    "<img src=\"images/centralized_vcs.png\" width=50%>\n",
    "</center>\n",
    "Los problemas obvios de este sistema, es que al fallar el servidor central durante ese tiempo nadie puede colaborar o guardar las versiones de los archivos que han estado trabajando. O si el disco central llegara a dañarse, sin mantener copias de respaldo se arriesga a perder todo."
   ]
  },
  {
   "cell_type": "markdown",
   "metadata": {
    "slideshow": {
     "slide_type": "subslide"
    }
   },
   "source": [
    "## Control de versiones - DISTRIBUIDO\n",
    "\n",
    "Estos sistemas entran para solucionar los problemas anteriores, de forma que los clientes no solo sacan la última versión de un archivo, sino que copian todo el repositorio incluyendo todo el historial de versiones. Cada copia es un respaldo de todos los datos y se puede usar para restaurarlo en caso de fallos.\n",
    "<center>\n",
    "<img src=\"images/distributed_vcs.png\" width=50%>\n",
    "</center>"
   ]
  },
  {
   "cell_type": "markdown",
   "metadata": {
    "slideshow": {
     "slide_type": "slide"
    }
   },
   "source": [
    "## Historia resumida de GIT\n",
    "\n",
    "- Fue creado por *Linus Torvalds* y la comunidad en 2005.\n",
    "- Se usó y desarrolló para la creación del Kernel de Linux\n",
    "\n",
    "<center>\n",
    "    <img src=\"images/linus_finger.png\" width=30%>\n",
    "</center>\n",
    "\n",
    "Algunos de los objetivos de diseño del sistema son:\n",
    "\n",
    "- Velocidad.\n",
    "- Diseño simple.\n",
    "- Soporte fuerte para desarrollo no lineal.\n",
    "- Completamente distribuido.\n",
    "- Capaz de manejar proyectos muy grandes eficientemente.\n",
    "\n",
    "<center>\n",
    "<img src=\"images/git.png\" width=30%>\n",
    "</center>"
   ]
  },
  {
   "cell_type": "markdown",
   "metadata": {
    "slideshow": {
     "slide_type": "subslide"
    }
   },
   "source": [
    "## Qué nos aporta GIT?\n",
    "\n",
    "<center>\n",
    "    <img src=\"images/git_graph.png\">\n",
    "</center>\n",
    "\n",
    "* Auditoría completa del código, sabiendo en todo momento quién ha tocado algo, cuándo y qué.\n",
    "\n",
    "\n",
    "* Control sobre cómo ha ido cambiando nuestro proyecto con el paso del tiempo.\n",
    "\n",
    "\n",
    "* Control de versiones del proyecto por medio de etiquetas.\n",
    "\n",
    "\n",
    "* Seguridad e integridad, es imposible modificar archivos sin que Git lo detecte."
   ]
  },
  {
   "cell_type": "markdown",
   "metadata": {
    "slideshow": {
     "slide_type": "subslide"
    }
   },
   "source": [
    "## Instalación de GIT en Linux\n",
    "\n",
    "Si quieres instalar Git en Linux, en general puedes hacerlo a través de una **terminal**, la herramienta básica de gestión de paquetes que trae tu distribución.\n",
    "\n",
    "```bash\n",
    "sudo apt-get install git\n",
    "```\n",
    "\n",
    "Para consultar la instalación de Git en Windows o Mac entre al siguiente [enlace.](https://git-scm.com/book/es/v1/Empezando-Instalando-Git#Instalando-en-Linux)\n",
    "\n",
    "---"
   ]
  },
  {
   "cell_type": "markdown",
   "metadata": {
    "slideshow": {
     "slide_type": "subslide"
    }
   },
   "source": [
    "## Flujo de trabajo\n",
    "\n",
    "1. <span style=\"color:red\">**Modificamos**</span> los archivos en el directorio de trabajo.\n",
    "\n",
    "\n",
    "2. Escogemos los cambios que queremos guardar y los <span style=\"color:green\">**añadimos**</span> al área de preparación.\n",
    "\n",
    "\n",
    "3. Hacemos una <span style=\"color:gray\">**confirmación**</span>, que toma los archivos en el área de preparación y guarda ese estado en el directorio git."
   ]
  },
  {
   "cell_type": "markdown",
   "metadata": {
    "slideshow": {
     "slide_type": "subslide"
    }
   },
   "source": [
    "## Local - Tres estados\n",
    "\n",
    "Esto es lo mas importante a recordar sobre Git si queremos que el resto del aprendizaje fluya sin complicaciones.\n",
    "\n",
    "Git tiene tres estados principales donde estarán los archivos: *committed*, *modified* y *staged*\n",
    "\n",
    "* <span style=\"color:gray\">**confirmado**</span> (committed) los datos están guardados en la base de datos local.\n",
    "\n",
    "\n",
    "* <span style=\"color:red\">**modificado**</span> (modified) cambiamos un archivo pero no lo hemos guardado en la base de datos todavía.\n",
    "\n",
    "\n",
    "* <span style=\"color:green\">**preparado**</span> (staged) marcamos un archivo modificado en su versión actual para guardarlo en la base de datos\n"
   ]
  },
  {
   "cell_type": "markdown",
   "metadata": {
    "slideshow": {
     "slide_type": "subslide"
    }
   },
   "source": [
    "## Local - Tres directorios\n",
    "\n",
    "<center>\n",
    "<img src=\"images/3_states.png\" width=50%>\n",
    "</center>\n",
    "\n",
    "* El `directorio .git/` es donde Git guarda los metadatos y cambios <span style=\"color:gray\">**confirmados**</span> que se han hecho al proyecto. Es la parte mas importante de Git. \n",
    "\n",
    "\n",
    "* El `directorio de trabajo` es un solo una versión del proyecto. Estos archivos se sacan de los datos comprimidos que se encuentran en el **directorio git** y se dejan en el disco para  <span style=\"color:red\">**modificación**</span>.\n",
    "\n",
    "\n",
    "* El `área de preparación` es un archivo que guarda la información de los cambios <span style=\"color:green\">**preparados**</span> y archivos que el usuario guardará."
   ]
  },
  {
   "cell_type": "markdown",
   "metadata": {
    "slideshow": {
     "slide_type": "subslide"
    }
   },
   "source": [
    "## Configuración inicial\n",
    "\n",
    "Creamos las credenciales de usuario.\n",
    "\n",
    "```bash\n",
    "git config --global user.name \"Diego Rueda\"\n",
    "git config --global user.email ing.diegorueda@gmail.com\n",
    "```\n",
    "\n",
    "Podemos ajustar a Git para que use nuestro editor preferido.\n",
    "\n",
    "```bash\n",
    "git config --global core.editor gedit\n",
    "```"
   ]
  },
  {
   "cell_type": "markdown",
   "metadata": {
    "slideshow": {
     "slide_type": "subslide"
    }
   },
   "source": [
    "## Obtener ayuda\n",
    "\n",
    "Podemos obtener ayuda sobre los comandos y los parámetros que tiene Git usando\n",
    "\n",
    "```bash\n",
    "# Muestra todas las opciones que tiene git.\n",
    "git help\n",
    "\n",
    "# Muestra ayuda mas específica en cada una de las opciones mostradas anteriormente.\n",
    "git help <opcion>\n",
    "```\n"
   ]
  },
  {
   "cell_type": "markdown",
   "metadata": {
    "slideshow": {
     "slide_type": "subslide"
    }
   },
   "source": [
    "# Iniciando Git\n",
    "\n",
    "1. Abrir una terminal de Linux\n",
    "\n",
    "\n",
    "2. Crear un directorio y entrar a este. \n",
    "```bash \n",
    "mkdir tutorial_git\n",
    "cd tutorial_git\n",
    "```\n",
    "\n",
    "3. Inicializamos GIT en el directorio con \n",
    "```bash \n",
    "git init\n",
    "```\n",
    "<img src=\"images/git_init.png\">\n",
    "\n",
    "5. Podemos consultar el estado actual\n",
    "```bash\n",
    "git status\n",
    "```\n",
    "<img src=\"images/status_1.png\">\n",
    "\n",
    "Esto crea un nuevo subdirectorio llamado `.git` que contiene todo lo necesario para rastrear los cambios en el proyecto. En este punto, ningún archivo es rastreado por Git.\n"
   ]
  },
  {
   "cell_type": "markdown",
   "metadata": {
    "slideshow": {
     "slide_type": "subslide"
    }
   },
   "source": [
    "## Rastreando los cambios\n",
    "\n",
    "1\\. Creamos un archivo con una linea de texto y consultamos Git.\n",
    "```bash \n",
    "echo 'Diego Rueda' > AUTORES.md\n",
    "git status\n",
    "```\n",
    "<img src=\"images/status_2.png\">\n",
    "\n",
    "\n",
    "2\\. Ponemos el archivo en el area de preparación y revisamos el estado\n",
    "```bash \n",
    "git add AUTORES.md\n",
    "git status\n",
    "```\n",
    "<img src=\"images/status_3.png\">\n",
    "\n",
    "\n",
    "3\\. Ahora podemos confirmar los cambios y pasarlos al repositorio con un mensaje descriptivo\n",
    "\n",
    "```bash\n",
    "# Este comando abre el editor definido anteriormente, al grabar y cerrar se genera el commit.\n",
    "git commit \n",
    "\n",
    "# De forma mas directa\n",
    "git commit -m \"Añado lista de autores\"\n",
    "```\n"
   ]
  },
  {
   "cell_type": "markdown",
   "metadata": {
    "slideshow": {
     "slide_type": "subslide"
    }
   },
   "source": [
    "## Creando un nuevo archivo\n",
    "\n",
    "Repetimos el proceso para crear un nuevo archivo.\n",
    "\n",
    "```bash\n",
    "echo \"# Instrucciones\" > README.md\n",
    "git add .\n",
    "```\n",
    "\n",
    "Notemos que esta vez usamos `git add .` para añadir todos los archivos en el directorio actual. Tambien podemos usar comodines `*.py` pero debemos usarlo con cuidado de agregar archivos que no necesitamos."
   ]
  },
  {
   "cell_type": "markdown",
   "metadata": {
    "slideshow": {
     "slide_type": "subslide"
    }
   },
   "source": [
    "## Modificando archivos \n",
    "\n",
    "Si modificamos el archivo `AUTORES.md` para agregar un nuevo autor, y revisamos los cambios a este archivo con Git.\n",
    "\n",
    "```bash\n",
    "echo 'Laura Plata' >> AUTORES.md\n",
    "git status\n",
    "```\n",
    "<img src=\"images/status_5.png\">"
   ]
  },
  {
   "cell_type": "markdown",
   "metadata": {
    "slideshow": {
     "slide_type": "subslide"
    }
   },
   "source": [
    "## Verificando cambios\n",
    "\n",
    "Podemos consultar los cambios que existen en `AUTORES.md` para ver las diferencias entre el estado anterior y el actual.\n",
    "\n",
    "```bash \n",
    "# Este comando mostrará todas las diferencias que existan\n",
    "git diff\n",
    "```\n",
    "<img src=\"images/status_6.png\" width=80%>\n",
    "\n",
    "\n",
    "Procedemos a guardar los cambios, al agregar la opción `a` automáticamente guardamos todos los archivos que git ya estaba rastreando.\n",
    "\n",
    "```bash\n",
    "git commit -am \"Creo archivo README e incluyo un nuevo autor\"\n",
    "```\n",
    "\n",
    "<img src=\"images/status_7.png\">\n"
   ]
  },
  {
   "cell_type": "markdown",
   "metadata": {
    "slideshow": {
     "slide_type": "subslide"
    }
   },
   "source": [
    "## Donde quedan los cambios?\n",
    "\n",
    "Git guarda un registro de todos los commits que hemos creado e incluye:\n",
    "\n",
    "* Un Hash, generado en base a los comentarios, es ÚNICO para cualquier commit.\n",
    "* El nombre y correo del autor de el commit.\n",
    "* La fecha y hora en que se creo el commit.\n",
    "* El mensaje que se escribió al crear el commit.\n",
    "\n",
    "Este registro lo consulto usando:\n",
    "\n",
    "```bash\n",
    "git log\n",
    "```\n",
    "\n",
    "<img src=\"images/status_8.png\">\n",
    "\n"
   ]
  },
  {
   "cell_type": "markdown",
   "metadata": {
    "slideshow": {
     "slide_type": "subslide"
    }
   },
   "source": [
    "## Revertir cambios\n",
    "\n",
    "#### <span style=\"color:red\">**Directorio de trabajo**</span>\n",
    "\n",
    "1. Modificar el archivo `AUTORES.md` agregando un nombre.\n",
    "2. Podemos revertir el cambio usando\n",
    "\n",
    "```bash\n",
    "# Revertir al estado actual un archivo\n",
    "git checkout -- AUTORES.md\n",
    "\n",
    "# Revertir al estado actual, todos los archivos modificados\n",
    "git checkout -- .\n",
    "\n",
    "# Revertir al estado en el último commit\n",
    "git checkout HEAD AUTORES.md\n",
    "\n",
    "# Revertir al estado en otro commit\n",
    "git checkout <<hash>> AUTORES.md\n",
    "```"
   ]
  },
  {
   "cell_type": "markdown",
   "metadata": {
    "slideshow": {
     "slide_type": "subslide"
    }
   },
   "source": [
    "## Revertir cambios\n",
    "\n",
    "#### <span style=\"color:green\">**Área de preparación**</span>\n",
    "\n",
    "1. Crear o modificar `AUTORES.md` y agregarlo al área de preparación.\n",
    "2. Podemos quitar los archivos de esta area usando.\n",
    "\n",
    "```bash\n",
    "# Remueve AUTORES.md del área de preparación.\n",
    "git reset HEAD AUTORES.md\n",
    "\n",
    "# Remueve todos los archivos del área de preparación.\n",
    "git reset\n",
    "```"
   ]
  },
  {
   "cell_type": "markdown",
   "metadata": {
    "slideshow": {
     "slide_type": "subslide"
    }
   },
   "source": [
    "## Revertir cambios\n",
    "\n",
    "#### <span style=\"color:gray\">**Repositorio Git**</span>\n",
    "\n",
    "1. Crear o modificar `AUTORES.md` y realizar un commit para guardar los cambios. \n",
    "2. Podemos quitar los archivos de esta area usando.\n",
    "\n",
    "```bash\n",
    "# Revertir a un commit anterior\n",
    "git checkout <<hash>>\n",
    "\n",
    "# Deshacer y conservar los cambios\n",
    "git reset --soft HEAD^\n",
    "\n",
    "# Deshacer al último commit sin importar cambios\n",
    "git reset --hard HEAD^\n",
    "```"
   ]
  },
  {
   "cell_type": "markdown",
   "metadata": {
    "slideshow": {
     "slide_type": "subslide"
    }
   },
   "source": [
    "<img src=\"images/github.png\" width=50%>\n",
    "\n",
    "Github es una plataforma para control de versiones y **colaboración**. Permite que múltiples personas puedan trabajar en proyectos sin importar donde están.\n",
    "\n",
    "* Múltiples empresas y universidades comparten sus desarrollos.\n",
    "* Es totalmente gratis siempre y cuando el acceso sea público.\n",
    "* Podemos subir cualquier tipo de elementos, no sólo código.\n",
    "* Podemos conocer las mejores prácticas en cualquier lenguaje."
   ]
  },
  {
   "cell_type": "markdown",
   "metadata": {
    "slideshow": {
     "slide_type": "subslide"
    }
   },
   "source": [
    "## Taller de Github\n",
    "\n",
    "1. Entrar y crear una cuenta en www.github.com\n",
    "\n",
    "\n",
    "2. (El ejercicio se hará en parejas, cada uno de los estudiantes debe asumir un rol A o B)\n",
    "\n",
    "\n",
    "3. El estudiante A debe crear un repositorio **VACIO** usando GITHUB.\n",
    "\n",
    "\n",
    "4. En la sección **SETTINGS** y luego **COLLABORATORS** en el repositorio de GITHUB añadir al estudiante B como colaborador."
   ]
  },
  {
   "cell_type": "markdown",
   "metadata": {
    "slideshow": {
     "slide_type": "subslide"
    }
   },
   "source": [
    "## Configurar el remoto\n",
    "\n",
    "1. Estudiante **A** conecta el repositorio local con GITHUB.\n",
    "\n",
    "```bash\n",
    "git remote add origin URL_REPO\n",
    "git push -u origin master\n",
    "```\n",
    "\n",
    "2. Estudiante **B** crea un nuevo directorio vacio para trabajar.\n",
    "\n",
    "3. Estudiante **B** clona el repositorio creado en GITHUB.\n",
    "\n",
    "```bash \n",
    "git clone URL_REPO\n",
    "```\n"
   ]
  },
  {
   "cell_type": "markdown",
   "metadata": {
    "slideshow": {
     "slide_type": "subslide"
    }
   },
   "source": [
    "## Qué acabamos de hacer?\n",
    "\n",
    "Para comunicarnos con Github debemos configurar el repositorio externo, un **remoto** al que llamamos **origin** para que podamos subir los cambios.\n",
    "\n",
    "```bash\n",
    "git remote add origin <<URL_REPO>>\n",
    "```"
   ]
  },
  {
   "cell_type": "markdown",
   "metadata": {
    "slideshow": {
     "slide_type": "fragment"
    }
   },
   "source": [
    "---\n",
    "\n",
    "Este es un comando que dice *Suba todos los commits en la **rama** llamada master* al remoto llamado origin.\n",
    "\n",
    "```bash\n",
    "git push origin master\n",
    "```\n",
    "---"
   ]
  },
  {
   "cell_type": "markdown",
   "metadata": {
    "slideshow": {
     "slide_type": "fragment"
    }
   },
   "source": [
    "Es usado para apuntar a un repo existente y hacer una copia en un nuevo directorio. Esto copia toda la historia del repositorio, todos los commits y la **rama** a la que apunta el repo remoto.\n",
    "\n",
    "```bash\n",
    "git clone <<URL_REPO>>\n",
    "```"
   ]
  },
  {
   "cell_type": "markdown",
   "metadata": {
    "slideshow": {
     "slide_type": "subslide"
    }
   },
   "source": [
    "## Subiendo cambios y archivos\n",
    "\n",
    "\n",
    "1. El estudiante **A** modifica el archivo `AUTHORS.md` agregando nuevos autores, guarda los cambios en un COMMIT y sube los cambios a Github:\n",
    "\n",
    "```bash\n",
    "git push\n",
    "```\n",
    "\n",
    "2. El estudiante **B** modifica el archivo `README.md` añadiendo mas información, hace commit y sube los cambios a Github.\n",
    "\n",
    "Debe fallar y mostrar un mensaje de error.\n",
    "\n",
    "\n",
    "3. El estudiante **B** obtiene los cambios que A subió a Github.\n",
    "\n",
    "```bash\n",
    "git pull\n",
    "```\n",
    "\n",
    "4. Ahora **B** ya puede subir los cambios que había creado a Github.\n",
    "\n",
    "5. El estudiante **A** se asegura de obtener los cambios de B en local."
   ]
  },
  {
   "cell_type": "markdown",
   "metadata": {
    "slideshow": {
     "slide_type": "subslide"
    }
   },
   "source": [
    "## Qué acabamos de hacer?\n",
    "\n",
    "Este comando se usa para subir el contenido de un repositorio local a un repositorio remoto. Se transfieren todos los commits.\n",
    "\n",
    "```bash\n",
    "git push\n",
    "```"
   ]
  },
  {
   "cell_type": "markdown",
   "metadata": {
    "slideshow": {
     "slide_type": "fragment"
    }
   },
   "source": [
    "---\n",
    "\n",
    "Este comando es usado para descargar el contenido de un repositorio remotoe inmediatamente **mezclar** con el repositorio local para sincronizar el contenido.\n",
    "\n",
    "```bash\n",
    "git pull\n",
    "```"
   ]
  },
  {
   "cell_type": "markdown",
   "metadata": {
    "slideshow": {
     "slide_type": "subslide"
    }
   },
   "source": [
    "## Cómo funcionan las ramas?\n",
    "\n",
    "A partir de una base común podemos crear ramas para cada nueva funcionalidad, la idea con separar el proyecto en múltiples ramas es encapsular los cambios y hace mas dificil que código inestable se mezcle con la rama principal.\n",
    "\n",
    "<center>\n",
    "<img src=\"images/branch.png\" width=80%>\n",
    "</center>"
   ]
  },
  {
   "cell_type": "markdown",
   "metadata": {
    "slideshow": {
     "slide_type": "subslide"
    }
   },
   "source": [
    "## Crear una rama (branch)\n",
    "\n",
    "1. El estudiante **A** creará una rama en la linea de comandos y sube la nueva rama a Github\n",
    "\n",
    "```bash\n",
    "git checkout -b NOMBRE_RAMA_A\n",
    "git push origin NOMBRE_RAMA_A\n",
    "```\n",
    "\n",
    "2. El estudiante **B** crea otra rama, siguiendo el mismo proceso.\n",
    "\n",
    "3. Verificar que las dos ramas existan en Github.\n",
    "\n",
    "4. El estudiante **A** mira la lista de ramas en linea de comandos.\n",
    "\n",
    "```bash\n",
    "git branch\n",
    "```\n",
    "\n",
    "5. Ambos estudiantes obtienen las ramas que ahora se encuentran en Github y se cambian a la rama que han creado.\n",
    "\n",
    "```bash\n",
    "git fetch origin\n",
    "git checkout NOMBRE_RAMA_A\n",
    "```"
   ]
  },
  {
   "cell_type": "markdown",
   "metadata": {
    "slideshow": {
     "slide_type": "subslide"
    }
   },
   "source": [
    "## Qué acabamos de hacer?\n",
    "\n",
    "Usando el comando `checkout` podemos movernos entre ramas en el proyecto. En este caso al usar el parámetro `-b` estamos diciendo a Git\n",
    "cree una nueva rama y cambiamos a esta.\n",
    "\n",
    "\n",
    "```bash\n",
    "# Cambiar de rama\n",
    "git checkout [nombre_A]\n",
    "\n",
    "# Crear rama y cambiar \n",
    "git checkout -b [nombre_A]\n",
    "```\n",
    "---\n",
    "\n",
    "Subimos los cambios en la rama creada en **local** a origin, si no existen cambios solo informa a Github la existencia de la rama.\n",
    "\n",
    "Unicamente sube los cambios de esa rama.\n",
    "\n",
    "```bash\n",
    "git push origin [nombre_A]\n",
    "```\n",
    "---\n",
    "\n",
    "Obtiene los cambios de todas las ramas en el repositorio remoto, tambien descarga todos los commits que se han creado en esa rama.\n",
    "\n",
    "Si sabemos de cual rama descargarlos podemos especificarlo.\n",
    "\n",
    "```bash\n",
    "git fetch origin\n",
    "git fetch origin [nombre]\n",
    "```\n",
    "---\n",
    "\n",
    "Lista todas las ramas que existen en el repositorio local.\n",
    "\n",
    "```bash\n",
    "git branch\n",
    "```"
   ]
  },
  {
   "cell_type": "markdown",
   "metadata": {
    "slideshow": {
     "slide_type": "subslide"
    }
   },
   "source": [
    "## Cómo funiona un Merge?\n",
    "\n",
    "Un merge es la forma de unir la historia de ramas separadas e integrarlas en una sola rama.\n",
    "\n",
    "Git automáticamente une los commits a menos que existan conflictos en ambas ramas.\n",
    "\n",
    "<br>\n",
    "<center>\n",
    "    <img src=\"images/merge.png\" width=80%>\n",
    "</center>"
   ]
  },
  {
   "cell_type": "markdown",
   "metadata": {
    "slideshow": {
     "slide_type": "subslide"
    }
   },
   "source": [
    "1. Ambos estudiantes crean un archivo \"calculadora.py\" y añaden los  métodos correspondientes:"
   ]
  },
  {
   "cell_type": "code",
   "execution_count": null,
   "metadata": {
    "slideshow": {
     "slide_type": "fragment"
    }
   },
   "outputs": [],
   "source": [
    "# Estudiante A\n",
    "def suma(a, b):\n",
    "    return a + b\n",
    "\n",
    "def resta(a, b):\n",
    "    return a - b"
   ]
  },
  {
   "cell_type": "code",
   "execution_count": null,
   "metadata": {
    "slideshow": {
     "slide_type": "fragment"
    }
   },
   "outputs": [],
   "source": [
    "# Estudiante B\n",
    "def multiplicar(a, b):\n",
    "    return a * b\n",
    "\n",
    "def dividir(a, b):\n",
    "    if b:\n",
    "        return a / b"
   ]
  },
  {
   "cell_type": "markdown",
   "metadata": {
    "slideshow": {
     "slide_type": "subslide"
    }
   },
   "source": [
    "## Uniendo ramas con Merge\n",
    "\n",
    "1. Ambos estudiantes deben estar en las diferentes ramas que han creado.\n",
    "\n",
    "\n",
    "2. Guardan los cambios al archivo \"calculadora.py\" haciendo un commit.\n",
    "\n",
    "\n",
    "3. Hacemos un merge con la rama principal.\n",
    "```bash\n",
    "# Cambiamos la rama MASTER\n",
    "git checkout master\n",
    "# Unimos las dos ramas\n",
    "git merge NOMBRE_RAMA_A\n",
    "```\n",
    "\n",
    "4. Estudiante **B** hace lo mismo del punto anterior con su rama.\n",
    "\n",
    "\n",
    "5. Estudiante **A** sube la rama MASTER al remoto (GITHUB).\n",
    "\n",
    "6. Estudiante **B** obtiene los cambios de A en el MASTER del remoto (GITHUB)\n",
    "\n",
    "7. Estudiante **B** hace un merge de su rama de trabajo con la rama master y sube los cambios a GITHUB.\n",
    "```bash\n",
    "git merge NOMBRE_RAMA_B\n",
    "```\n",
    "\n",
    "8. Verificar que los diferentes commits están en la rama master del remoto (GITHUB)."
   ]
  },
  {
   "cell_type": "markdown",
   "metadata": {
    "slideshow": {
     "slide_type": "subslide"
    }
   },
   "source": [
    "# Materiales de Estudio Avanzado\n",
    "\n",
    "- [The Ultimate GIT 5-day Challenge](https://www.udemy.com/course/the-ultimate-git-5-day-challenge/)\n",
    "\n",
    "- [Learn GIT Visually](https://learngitbranching.js.org/)\n",
    "\n",
    "- [GIT for Windows](https://www.udemy.com/course/git-bash/)\n",
    "\n",
    "- [GIT Kraken](https://www.gitkraken.com/git-client)\n",
    "\n",
    "- [GIT Kraken Tutorials](https://www.gitkraken.com/learn-git)"
   ]
  }
 ],
 "metadata": {
  "kernelspec": {
   "display_name": "Python 3",
   "language": "python",
   "name": "python3"
  },
  "language_info": {
   "codemirror_mode": {
    "name": "ipython",
    "version": 3
   },
   "file_extension": ".py",
   "mimetype": "text/x-python",
   "name": "python",
   "nbconvert_exporter": "python",
   "pygments_lexer": "ipython3",
   "version": "3.7.1"
  },
  "toc": {
   "base_numbering": 1,
   "nav_menu": {},
   "number_sections": true,
   "sideBar": true,
   "skip_h1_title": false,
   "title_cell": "Table of Contents",
   "title_sidebar": "Contents",
   "toc_cell": false,
   "toc_position": {},
   "toc_section_display": true,
   "toc_window_display": false
  },
  "varInspector": {
   "cols": {
    "lenName": 16,
    "lenType": 16,
    "lenVar": 40
   },
   "kernels_config": {
    "python": {
     "delete_cmd_postfix": "",
     "delete_cmd_prefix": "del ",
     "library": "var_list.py",
     "varRefreshCmd": "print(var_dic_list())"
    },
    "r": {
     "delete_cmd_postfix": ") ",
     "delete_cmd_prefix": "rm(",
     "library": "var_list.r",
     "varRefreshCmd": "cat(var_dic_list()) "
    }
   },
   "types_to_exclude": [
    "module",
    "function",
    "builtin_function_or_method",
    "instance",
    "_Feature"
   ],
   "window_display": false
  }
 },
 "nbformat": 4,
 "nbformat_minor": 2
}
